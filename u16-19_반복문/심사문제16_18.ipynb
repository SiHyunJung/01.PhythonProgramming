{
  "nbformat": 4,
  "nbformat_minor": 0,
  "metadata": {
    "colab": {
      "name": "심사문제16-18.ipynb",
      "provenance": [],
      "collapsed_sections": []
    },
    "kernelspec": {
      "name": "python3",
      "display_name": "Python 3"
    },
    "language_info": {
      "name": "python"
    }
  },
  "cells": [
    {
      "cell_type": "code",
      "metadata": {
        "id": "fVExL9nafOZM"
      },
      "source": [
        ""
      ],
      "execution_count": null,
      "outputs": []
    },
    {
      "cell_type": "markdown",
      "metadata": {
        "id": "SvkO3k9JfTi1"
      },
      "source": [
        "### 심사문제\n",
        "\n",
        "u 16\n",
        "표준 입력으로 정수가 입력됩니다. 입력된 정수의 구구단을 출력하는 프로그램을 만드세요.\n",
        "\n",
        "출력 형식은 숫자 숫자 = 숫자처럼 만들고 숫자와 ,= 사이는 공백을 한 칸 띄웁니다.\n"
      ]
    },
    {
      "cell_type": "code",
      "metadata": {
        "id": "JAzoshtYfVJZ"
      },
      "source": [
        "n = int(input())\n",
        "for i in range(1,10):\n",
        "    print(f'{n} * {i} = {n*i}')"
      ],
      "execution_count": null,
      "outputs": []
    },
    {
      "cell_type": "markdown",
      "metadata": {
        "id": "fQhOxet4f77y"
      },
      "source": [
        "u17\n",
        "\n",
        "표준 입력으로 금액(정수)이 입력됩니다. 1회당 요금은 1,350원이고, 교통카드를 사용했을 때마다의 잔액을 각 줄에 출력하는 프로그램을 만드세요.\n",
        "단, 최초 금액은 출력하지 않아야 합니다. 그리고 잔액은 음수가 될 수 없으며 잔액이 부족하면 출력을 끝냅니다."
      ]
    },
    {
      "cell_type": "code",
      "metadata": {
        "id": "UK3qKdg9fmqy"
      },
      "source": [
        "balance = int(input())\n",
        "\n",
        "fare = 1350\n",
        "while balance-fare >= 0 :\n",
        "    balance -= fare\n",
        "    print(balance)"
      ],
      "execution_count": null,
      "outputs": []
    },
    {
      "cell_type": "markdown",
      "metadata": {
        "id": "uOIF-no-f5UQ"
      },
      "source": [
        "- 객체지향 방식"
      ]
    },
    {
      "cell_type": "code",
      "metadata": {
        "id": "B9oUcC9kfo4w"
      },
      "source": [
        "class Tmoney:\n",
        "    def __init__(self, balance):\n",
        "        self.balance = balance\n",
        "\n",
        "    def pay(self, fare):\n",
        "        if self.balance > fare :\n",
        "            self.balance -= fare\n",
        "            print(f'남은 잔액은 {self.balance}원 입니다.')\n",
        "        else : \n",
        "            print('지불 불가')"
      ],
      "execution_count": null,
      "outputs": []
    },
    {
      "cell_type": "code",
      "metadata": {
        "id": "T3FnrcUifqIz"
      },
      "source": [
        "balance = int(input())\n",
        "fare = 1350\n",
        "card = Tmoney(balance)\n",
        "\n",
        "while True :\n",
        "    if card.balance <= fare :\n",
        "        break\n",
        "    card.pay(fare)"
      ],
      "execution_count": null,
      "outputs": []
    },
    {
      "cell_type": "markdown",
      "metadata": {
        "id": "7vR701idfuZh"
      },
      "source": [
        "u18\n",
        "표준 입력으로 정수 두 개가 입력됩니다(첫 번째 입력 값의 범위는 1~200,\n",
        "\n",
        "두 번째 입력 값의 범위는 10~200이며 첫 번째 입력 값은 두 번째 입력 값보다 항상 작습니다)\n",
        "\n",
        "다음 소스 코드를 완성하여 첫 번째 정수와 두 번째 정수 사이의 숫자 중 3으로 끝나지 않는 숫자가 출력되게 만드세요.\n",
        "\n",
        "정답에 코드를 작성할 때는 while True:에 맞춰서 들여쓰기를 해주세요."
      ]
    },
    {
      "cell_type": "code",
      "metadata": {
        "id": "0JfDy3HEfrkN"
      },
      "source": [
        "x, y = list(map(int, input().split()))\n",
        "while True:\n",
        "    if x > y:\n",
        "        break\n",
        "    if x % 10 == 3:\n",
        "        x += 1\n",
        "        continue\n",
        "    print(x, end='  ')\n",
        "    x += 1"
      ],
      "execution_count": null,
      "outputs": []
    },
    {
      "cell_type": "code",
      "metadata": {
        "id": "13T7Tg0PfsvB"
      },
      "source": [
        ""
      ],
      "execution_count": null,
      "outputs": []
    }
  ]
}