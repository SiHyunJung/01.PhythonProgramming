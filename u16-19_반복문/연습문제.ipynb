{
  "nbformat": 4,
  "nbformat_minor": 0,
  "metadata": {
    "colab": {
      "name": "연습문제.ipynb",
      "provenance": []
    },
    "kernelspec": {
      "name": "python3",
      "display_name": "Python 3"
    },
    "language_info": {
      "name": "python"
    }
  },
  "cells": [
    {
      "cell_type": "markdown",
      "metadata": {
        "id": "h5VKQpWygPLC"
      },
      "source": [
        "\n",
        "1. 피타고라스 수\n",
        "\n",
        "\n",
        "a + b + c = 1000 인 피타고라스 수를 구하시오."
      ]
    },
    {
      "cell_type": "code",
      "metadata": {
        "colab": {
          "base_uri": "https://localhost:8080/"
        },
        "id": "koeX4AuTgKo-",
        "outputId": "898650df-5514-492a-e17c-ca1619fe70c3"
      },
      "source": [
        "for a in range(1,333):\n",
        "    for b in range(a+1,500):\n",
        "        c = 1000 - a - b\n",
        "        if c*c == a*a + b*b:\n",
        "            print(a, b, c)"
      ],
      "execution_count": 1,
      "outputs": [
        {
          "output_type": "stream",
          "text": [
            "200 375 425\n"
          ],
          "name": "stdout"
        }
      ]
    },
    {
      "cell_type": "code",
      "metadata": {
        "colab": {
          "base_uri": "https://localhost:8080/"
        },
        "id": "g41oPQ5xgTpz",
        "outputId": "997dbd35-3bac-4769-a3c9-3d7687259977"
      },
      "source": [
        "[(a, b, c) for a in range(1,333)\n",
        "               for b in range(a+1,500)\n",
        "                   for c in range(b+1, 1000)\n",
        "                       if a+b+c==1000 and a*a + b*b == c*c]"
      ],
      "execution_count": 2,
      "outputs": [
        {
          "output_type": "execute_result",
          "data": {
            "text/plain": [
              "[(200, 375, 425)]"
            ]
          },
          "metadata": {
            "tags": []
          },
          "execution_count": 2
        }
      ]
    },
    {
      "cell_type": "markdown",
      "metadata": {
        "id": "ZnZoodxrgWfc"
      },
      "source": [
        "2. 만 나이\n",
        "본인의 생일을 1998 12 15 과 같이 년 월 일로 입력받아 오늘 날짜의 만 나이를 구하는 프로그램을 작성하시오."
      ]
    },
    {
      "cell_type": "code",
      "metadata": {
        "id": "m77Ue6QrgVgk"
      },
      "source": [
        "from datetime import date\n",
        "today = date.today()"
      ],
      "execution_count": 4,
      "outputs": []
    },
    {
      "cell_type": "code",
      "metadata": {
        "id": "vcpy8S_Tgjxc"
      },
      "source": [
        "year, month, day = map(int, input('생일 입력'.split()))\n",
        "year, month, day"
      ],
      "execution_count": null,
      "outputs": []
    },
    {
      "cell_type": "code",
      "metadata": {
        "id": "1T9pRoXXguL8"
      },
      "source": [
        "if month > today,month:\n",
        "    age = today.year - year - 1\n",
        "elif month < today.month:\n",
        "    age = today.year - year\n",
        "else:\n",
        "    if day > todya.day:\n",
        "        age = today.year - year\n",
        "    else:\n",
        "        age = today.year - year\n",
        "print(f'만 나이는 {age} 입니다.')"
      ],
      "execution_count": null,
      "outputs": []
    },
    {
      "cell_type": "markdown",
      "metadata": {
        "id": "_giIVd15hMe9"
      },
      "source": [
        "3. 디지털 시계\n",
        "디지털 시계에 하루동안(00:00~23:59) 3이 표시되는 시간을 초로 환산하면 총 몇 초(second)일까요?\n",
        "\n",
        "- 디지털 시계는 하루동안 다음과 같이 시 분(00:00~23:59)으로 표시됨"
      ]
    },
    {
      "cell_type": "code",
      "metadata": {
        "id": "3kmIcs7ehLhe"
      },
      "source": [
        "total_seconds = 0\n",
        "for hour in range(24):\n",
        "    for min in range(60):\n",
        "        display = f'{hour:02d}:{min:02d}'\n",
        "        if '3' in display:\n",
        "            total_seconds += 60\n",
        "print(total_seconds)"
      ],
      "execution_count": null,
      "outputs": []
    },
    {
      "cell_type": "code",
      "metadata": {
        "id": "ijvqqt6shr85"
      },
      "source": [
        ""
      ],
      "execution_count": null,
      "outputs": []
    }
  ]
}