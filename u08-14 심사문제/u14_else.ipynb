{
  "nbformat": 4,
  "nbformat_minor": 0,
  "metadata": {
    "colab": {
      "name": "u14_else.ipynb",
      "provenance": []
    },
    "kernelspec": {
      "name": "python3",
      "display_name": "Python 3"
    },
    "language_info": {
      "name": "python"
    }
  },
  "cells": [
    {
      "cell_type": "markdown",
      "metadata": {
        "id": "AFkloyxtl_xv"
      },
      "source": [
        "Unit14. else"
      ]
    },
    {
      "cell_type": "code",
      "metadata": {
        "colab": {
          "base_uri": "https://localhost:8080/"
        },
        "id": "aCzv9w5Pl46X",
        "outputId": "3797f6e5-cf1c-4ab8-a376-4e7eaaba0826"
      },
      "source": [
        "x = 8\n",
        "if x == 10:\n",
        "      print('it is 10.')\n",
        "else:\n",
        "      print('Is is not 10')"
      ],
      "execution_count": 1,
      "outputs": [
        {
          "output_type": "stream",
          "text": [
            "Is is not 10\n"
          ],
          "name": "stdout"
        }
      ]
    },
    {
      "cell_type": "markdown",
      "metadata": {
        "id": "JwyA9m2CmsDf"
      },
      "source": [
        "3. 연산자\n",
        "- Java: a = (조건) ? 참일때의 값 : 거짓일때의 값"
      ]
    },
    {
      "cell_type": "code",
      "metadata": {
        "colab": {
          "base_uri": "https://localhost:8080/",
          "height": 35
        },
        "id": "O_9Kj8_6miKD",
        "outputId": "48b58d74-b48c-486d-948d-7c36a0638877"
      },
      "source": [
        "x = 1\n",
        "if x % 2 == 0:\n",
        "    y = 'even'\n",
        "else:\n",
        "    y = 'odd'\n",
        "y"
      ],
      "execution_count": 2,
      "outputs": [
        {
          "output_type": "execute_result",
          "data": {
            "application/vnd.google.colaboratory.intrinsic+json": {
              "type": "string"
            },
            "text/plain": [
              "'odd'"
            ]
          },
          "metadata": {
            "tags": []
          },
          "execution_count": 2
        }
      ]
    },
    {
      "cell_type": "code",
      "metadata": {
        "colab": {
          "base_uri": "https://localhost:8080/",
          "height": 35
        },
        "id": "gvfomyAfm9XJ",
        "outputId": "da495c5b-3530-4a27-de5a-a8272dabcc16"
      },
      "source": [
        "y = 'even' if x%2 == 0 else 'odd'\n",
        "y"
      ],
      "execution_count": 4,
      "outputs": [
        {
          "output_type": "execute_result",
          "data": {
            "application/vnd.google.colaboratory.intrinsic+json": {
              "type": "string"
            },
            "text/plain": [
              "'odd'"
            ]
          },
          "metadata": {
            "tags": []
          },
          "execution_count": 4
        }
      ]
    },
    {
      "cell_type": "code",
      "metadata": {
        "colab": {
          "base_uri": "https://localhost:8080/"
        },
        "id": "pDZG2UOanL_3",
        "outputId": "9cfeee17-34c7-450d-f5f7-6ad7cfc56432"
      },
      "source": [
        "# 90점 이상이면 'A', 80 ~ 90: B, 70 ~ 79: C, 60 ~ 69: D, ~59: F\n",
        "score = int(input('점수 입력> '))"
      ],
      "execution_count": 5,
      "outputs": [
        {
          "output_type": "stream",
          "text": [
            "점수 입력> 82\n"
          ],
          "name": "stdout"
        }
      ]
    },
    {
      "cell_type": "code",
      "metadata": {
        "colab": {
          "base_uri": "https://localhost:8080/"
        },
        "id": "OWyYNKtIoupB",
        "outputId": "813e05bd-4cc7-4056-dcc8-ff0bf24aba42"
      },
      "source": [
        "if score >= 90:\n",
        "   grade = 'A'\n",
        "else:\n",
        "    if score >= 80:\n",
        "      grade = 'B'\n",
        "    else:\n",
        "      if score >= 70:\n",
        "        grade = 'C'\n",
        "      else:\n",
        "        if score >= 60:\n",
        "          grade = 'D'\n",
        "        else:\n",
        "         grade = 'F'\n",
        "\n",
        "print(grade)"
      ],
      "execution_count": 9,
      "outputs": [
        {
          "output_type": "stream",
          "text": [
            "B\n"
          ],
          "name": "stdout"
        }
      ]
    },
    {
      "cell_type": "code",
      "metadata": {
        "colab": {
          "base_uri": "https://localhost:8080/",
          "height": 35
        },
        "id": "UI5Q9DN4qYlg",
        "outputId": "8385c525-97a7-4718-d2f9-4239e5536e9c"
      },
      "source": [
        "grade = 'A' if score >= 90 else \\\n",
        "          'B' if score >= 80 else \\\n",
        "            'C' if score >= 70 else \\\n",
        "              'D' if score >= 60 else F\n",
        "\n",
        "grade"
      ],
      "execution_count": 12,
      "outputs": [
        {
          "output_type": "execute_result",
          "data": {
            "application/vnd.google.colaboratory.intrinsic+json": {
              "type": "string"
            },
            "text/plain": [
              "'B'"
            ]
          },
          "metadata": {
            "tags": []
          },
          "execution_count": 12
        }
      ]
    },
    {
      "cell_type": "markdown",
      "metadata": {
        "id": "T46Xz0UKun3_"
      },
      "source": [
        "조건식에서의 논리연산자"
      ]
    },
    {
      "cell_type": "code",
      "metadata": {
        "colab": {
          "base_uri": "https://localhost:8080/"
        },
        "id": "QoTmSWTCq3Ey",
        "outputId": "162bc888-2c5c-4be4-dc9c-5ed20443113f"
      },
      "source": [
        "x = 5\n",
        "if x > 0 and x < 10:\n",
        "    print('10보다 작은 양의 정수입니다.')\n",
        "  "
      ],
      "execution_count": 13,
      "outputs": [
        {
          "output_type": "stream",
          "text": [
            "10보다 작은 양의 정수입니다.\n"
          ],
          "name": "stdout"
        }
      ]
    },
    {
      "cell_type": "code",
      "metadata": {
        "colab": {
          "base_uri": "https://localhost:8080/"
        },
        "id": "ooURoxk5uysY",
        "outputId": "a00cc1cb-2cc5-4c05-8fd8-c639e47e0b2d"
      },
      "source": [
        "if 0 < x < 10:\n",
        "    print('10보다 작은 양의 정수입니다.')"
      ],
      "execution_count": 14,
      "outputs": [
        {
          "output_type": "stream",
          "text": [
            "10보다 작은 양의 정수입니다.\n"
          ],
          "name": "stdout"
        }
      ]
    },
    {
      "cell_type": "code",
      "metadata": {
        "id": "FSSiEd2iu4wf"
      },
      "source": [
        ""
      ],
      "execution_count": null,
      "outputs": []
    }
  ]
}