{
  "nbformat": 4,
  "nbformat_minor": 0,
  "metadata": {
    "colab": {
      "name": "u08 논리 연산자.ipynb",
      "provenance": []
    },
    "kernelspec": {
      "name": "python3",
      "display_name": "Python 3"
    },
    "language_info": {
      "name": "python"
    }
  },
  "cells": [
    {
      "cell_type": "markdown",
      "metadata": {
        "id": "nH9JzIZrfIB-"
      },
      "source": [
        "Unit 8. 불과 비교 논리 연산자 알아보기\n",
        "\n",
        "\n",
        "*   참(True), 거짓(False)을 나타내는 불(Boolean)을 알아보자\n",
        "*   두 값의 관계를 판단하는 비교 연산자와 두 값의 논릿값을 판단하는 논리 연산자도 함께 알아보자\n",
        "\n",
        "\n",
        "*   if, while  구문을 작성할 떄 비교, 논리 연산자를 자주 사용함\n",
        "\n",
        "\n",
        "\n",
        "\n",
        "\n"
      ]
    },
    {
      "cell_type": "markdown",
      "metadata": {
        "id": "eqI7ivVUgTTh"
      },
      "source": [
        "8.1 불(Bool)과 비교연산자"
      ]
    },
    {
      "cell_type": "code",
      "metadata": {
        "colab": {
          "base_uri": "https://localhost:8080/"
        },
        "id": "iUdxV8VrfvMw",
        "outputId": "c8698258-faf2-401a-d0fb-1a139337f5d7"
      },
      "source": [
        "True, False"
      ],
      "execution_count": null,
      "outputs": [
        {
          "output_type": "execute_result",
          "data": {
            "text/plain": [
              "(True, False)"
            ]
          },
          "metadata": {
            "tags": []
          },
          "execution_count": 2
        }
      ]
    },
    {
      "cell_type": "code",
      "metadata": {
        "colab": {
          "base_uri": "https://localhost:8080/"
        },
        "id": "Wi5IQV-UfxjQ",
        "outputId": "89e62788-ecb4-4ce6-ba96-9d4ce01fdc99"
      },
      "source": [
        "# >, >=. <, <=, ==,\n",
        "10 >= 5"
      ],
      "execution_count": null,
      "outputs": [
        {
          "output_type": "execute_result",
          "data": {
            "text/plain": [
              "True"
            ]
          },
          "metadata": {
            "tags": []
          },
          "execution_count": 3
        }
      ]
    },
    {
      "cell_type": "code",
      "metadata": {
        "colab": {
          "base_uri": "https://localhost:8080/"
        },
        "id": "cByCtgx2gWZj",
        "outputId": "a16d180d-c55b-4a27-b806-c7728a1757ac"
      },
      "source": [
        "10 != 5"
      ],
      "execution_count": null,
      "outputs": [
        {
          "output_type": "execute_result",
          "data": {
            "text/plain": [
              "True"
            ]
          },
          "metadata": {
            "tags": []
          },
          "execution_count": 5
        }
      ]
    },
    {
      "cell_type": "code",
      "metadata": {
        "colab": {
          "base_uri": "https://localhost:8080/"
        },
        "id": "2fXSwCqSgaYA",
        "outputId": "2e257121-98e6-4285-c465-876077152b2f"
      },
      "source": [
        "'Python' == 'pyython'"
      ],
      "execution_count": null,
      "outputs": [
        {
          "output_type": "execute_result",
          "data": {
            "text/plain": [
              "False"
            ]
          },
          "metadata": {
            "tags": []
          },
          "execution_count": 6
        }
      ]
    },
    {
      "cell_type": "markdown",
      "metadata": {
        "id": "YPzWLaHKho7R"
      },
      "source": [
        "8.2 논리연산자\n",
        "참(True) 거짓(False)을 나타내는 불(Boolean)은 두 값의 관계를 판단하는 비교 연산자와 두 값의 논리값을 판단하는 논리 연산자가 있다.\n",
        "\n",
        "* if, while 구문을 작성할 때, 비교, 논리 연산자를 자주 사용합니다."
      ]
    },
    {
      "cell_type": "code",
      "metadata": {
        "colab": {
          "base_uri": "https://localhost:8080/"
        },
        "id": "xlXMZY-agjnh",
        "outputId": "5381fd30-d6d9-4a97-c890-dcc96c2cc3a8"
      },
      "source": [
        "True, False"
      ],
      "execution_count": null,
      "outputs": [
        {
          "output_type": "execute_result",
          "data": {
            "text/plain": [
              "(True, False)"
            ]
          },
          "metadata": {
            "tags": []
          },
          "execution_count": 10
        }
      ]
    },
    {
      "cell_type": "markdown",
      "metadata": {
        "id": "OIpa5jkUj58x"
      },
      "source": [
        "## **8.2 논리연산자**\n",
        "* and, or, not"
      ]
    },
    {
      "cell_type": "code",
      "metadata": {
        "colab": {
          "base_uri": "https://localhost:8080/"
        },
        "id": "RyNV1Kudjxif",
        "outputId": "49e1bdd2-4b4b-4fd2-daa5-168ffff8bc16"
      },
      "source": [
        "not True and False or not False"
      ],
      "execution_count": null,
      "outputs": [
        {
          "output_type": "execute_result",
          "data": {
            "text/plain": [
              "True"
            ]
          },
          "metadata": {
            "tags": []
          },
          "execution_count": 11
        }
      ]
    },
    {
      "cell_type": "code",
      "metadata": {
        "colab": {
          "base_uri": "https://localhost:8080/"
        },
        "id": "zWk2F3KNkPND",
        "outputId": "5580b1f0-4559-4f64-a0f6-d2ecefa8338b"
      },
      "source": [
        "((not True) and False) or (not False)"
      ],
      "execution_count": null,
      "outputs": [
        {
          "output_type": "execute_result",
          "data": {
            "text/plain": [
              "True"
            ]
          },
          "metadata": {
            "tags": []
          },
          "execution_count": 12
        }
      ]
    },
    {
      "cell_type": "markdown",
      "metadata": {
        "id": "qepY7jOxkVbZ"
      },
      "source": [
        "and 는 두 값이 모두 True면 True\n",
        "하나라도 False면 False 의 결과를 가진다.\n",
        "\n",
        "or 는 두 값 중  하나라도 True aus True 이고 두 값이 모두 False면 False 가된다.\n",
        "\n",
        "not 논리 값을 뒤집어\n",
        "not True 는 False가 되고, not False는 True가 됩니다.\n",
        "\n",
        "not - and - or 순으로 판단."
      ]
    },
    {
      "cell_type": "code",
      "metadata": {
        "colab": {
          "base_uri": "https://localhost:8080/"
        },
        "id": "WLvsOfvSkSXb",
        "outputId": "a285b342-7389-4cf0-b9bc-b78e88b50fb4"
      },
      "source": [
        "# x > 10, x < 5\n",
        "x = 6\n",
        "x > 10 or x < 5    # 대부분 이렇게 표현 된다."
      ],
      "execution_count": null,
      "outputs": [
        {
          "output_type": "execute_result",
          "data": {
            "text/plain": [
              "False"
            ]
          },
          "metadata": {
            "tags": []
          },
          "execution_count": 14
        }
      ]
    },
    {
      "cell_type": "code",
      "metadata": {
        "colab": {
          "base_uri": "https://localhost:8080/"
        },
        "id": "49cvjj4Pkr2q",
        "outputId": "6bcd3c56-d88f-4272-be92-79168e4304b1"
      },
      "source": [
        "# 파이썬에서만 쓸 수 있는 표현\n",
        "5 < x < 10"
      ],
      "execution_count": null,
      "outputs": [
        {
          "output_type": "execute_result",
          "data": {
            "text/plain": [
              "True"
            ]
          },
          "metadata": {
            "tags": []
          },
          "execution_count": 15
        }
      ]
    },
    {
      "cell_type": "markdown",
      "metadata": {
        "id": "-gSA44ChlNHW"
      },
      "source": [
        "정수, 실수, 문자열"
      ]
    },
    {
      "cell_type": "code",
      "metadata": {
        "colab": {
          "base_uri": "https://localhost:8080/"
        },
        "id": "GC42dCwYk18f",
        "outputId": "fa1859a6-7f8e-4129-8db8-811050c50928"
      },
      "source": [
        "bool(0), bool(1), bool(4)"
      ],
      "execution_count": null,
      "outputs": [
        {
          "output_type": "execute_result",
          "data": {
            "text/plain": [
              "(False, True, True)"
            ]
          },
          "metadata": {
            "tags": []
          },
          "execution_count": 16
        }
      ]
    },
    {
      "cell_type": "code",
      "metadata": {
        "colab": {
          "base_uri": "https://localhost:8080/"
        },
        "id": "ezFNI7PWlTIn",
        "outputId": "2dc87591-32ba-4c36-8da4-697d48d65ed0"
      },
      "source": [
        "bool(0.0), bool(1.), bool(-4.)"
      ],
      "execution_count": null,
      "outputs": [
        {
          "output_type": "execute_result",
          "data": {
            "text/plain": [
              "(False, True, True)"
            ]
          },
          "metadata": {
            "tags": []
          },
          "execution_count": 17
        }
      ]
    },
    {
      "cell_type": "code",
      "metadata": {
        "colab": {
          "base_uri": "https://localhost:8080/"
        },
        "id": "GE5SiisXlapN",
        "outputId": "c4de0cb3-3a73-4203-ef0e-f6e0c038d248"
      },
      "source": [
        "bool(''), bool('s')"
      ],
      "execution_count": null,
      "outputs": [
        {
          "output_type": "execute_result",
          "data": {
            "text/plain": [
              "(False, True)"
            ]
          },
          "metadata": {
            "tags": []
          },
          "execution_count": 18
        }
      ]
    },
    {
      "cell_type": "code",
      "metadata": {
        "colab": {
          "base_uri": "https://localhost:8080/"
        },
        "id": "Lmsk2Pn1lvqy",
        "outputId": "5761617c-14fd-4fec-ad16-918d148a5943"
      },
      "source": [
        "if 4:\n",
        "  print('4 is True')"
      ],
      "execution_count": null,
      "outputs": [
        {
          "output_type": "stream",
          "text": [
            "4 is True\n"
          ],
          "name": "stdout"
        }
      ]
    },
    {
      "cell_type": "code",
      "metadata": {
        "colab": {
          "base_uri": "https://localhost:8080/"
        },
        "id": "kw4VGOowl1R1",
        "outputId": "0b2e370c-7ce1-450c-c83c-1cd7cfc1d558"
      },
      "source": [
        "int(True), int(False)"
      ],
      "execution_count": null,
      "outputs": [
        {
          "output_type": "execute_result",
          "data": {
            "text/plain": [
              "(1, 0)"
            ]
          },
          "metadata": {
            "tags": []
          },
          "execution_count": 21
        }
      ]
    },
    {
      "cell_type": "markdown",
      "metadata": {
        "id": "srNPWXximpfD"
      },
      "source": [
        "**Short-Circuit evaluation**"
      ]
    },
    {
      "cell_type": "code",
      "metadata": {
        "colab": {
          "base_uri": "https://localhost:8080/"
        },
        "id": "rCZ6sOV-l8Ga",
        "outputId": "dd3dc2b8-f844-42bb-8e18-d514e5b61003"
      },
      "source": [
        "1 or 'python'"
      ],
      "execution_count": null,
      "outputs": [
        {
          "output_type": "execute_result",
          "data": {
            "text/plain": [
              "1"
            ]
          },
          "metadata": {
            "tags": []
          },
          "execution_count": 22
        }
      ]
    },
    {
      "cell_type": "code",
      "metadata": {
        "colab": {
          "base_uri": "https://localhost:8080/",
          "height": 35
        },
        "id": "Ser2xsh5mWNL",
        "outputId": "8785c741-db42-42b7-8421-e9ee1122c981"
      },
      "source": [
        "0 or 'python'"
      ],
      "execution_count": null,
      "outputs": [
        {
          "output_type": "execute_result",
          "data": {
            "application/vnd.google.colaboratory.intrinsic+json": {
              "type": "string"
            },
            "text/plain": [
              "'python'"
            ]
          },
          "metadata": {
            "tags": []
          },
          "execution_count": 23
        }
      ]
    },
    {
      "cell_type": "code",
      "metadata": {
        "colab": {
          "base_uri": "https://localhost:8080/",
          "height": 35
        },
        "id": "drB0DieXmYSy",
        "outputId": "b5c10943-5575-4679-c474-0baf7ff763d4"
      },
      "source": [
        "1 and 'python'     #"
      ],
      "execution_count": null,
      "outputs": [
        {
          "output_type": "execute_result",
          "data": {
            "application/vnd.google.colaboratory.intrinsic+json": {
              "type": "string"
            },
            "text/plain": [
              "'python'"
            ]
          },
          "metadata": {
            "tags": []
          },
          "execution_count": 25
        }
      ]
    },
    {
      "cell_type": "code",
      "metadata": {
        "colab": {
          "base_uri": "https://localhost:8080/"
        },
        "id": "qx4F2gCEmaHl",
        "outputId": "bd0cf0df-5fa4-4a0a-d9a6-fc3a856f65ef"
      },
      "source": [
        "0 and 'python'"
      ],
      "execution_count": null,
      "outputs": [
        {
          "output_type": "execute_result",
          "data": {
            "text/plain": [
              "0"
            ]
          },
          "metadata": {
            "tags": []
          },
          "execution_count": 26
        }
      ]
    },
    {
      "cell_type": "code",
      "metadata": {
        "id": "y755T0tgmfjD"
      },
      "source": [
        ""
      ],
      "execution_count": null,
      "outputs": []
    }
  ]
}