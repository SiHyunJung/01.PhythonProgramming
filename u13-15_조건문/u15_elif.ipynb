{
  "nbformat": 4,
  "nbformat_minor": 0,
  "metadata": {
    "colab": {
      "name": "u15_elif.ipynb",
      "provenance": [],
      "collapsed_sections": []
    },
    "kernelspec": {
      "name": "python3",
      "display_name": "Python 3"
    },
    "language_info": {
      "name": "python"
    }
  },
  "cells": [
    {
      "cell_type": "code",
      "metadata": {
        "colab": {
          "base_uri": "https://localhost:8080/"
        },
        "id": "AY1GiTX3omOE",
        "outputId": "5561f6e0-4f9e-4e82-8794-ff0705cbd0a7"
      },
      "source": [
        "x = 15\n",
        "if x == 10:\n",
        "    print('It is 10.')\n",
        "elif x == 20:\n",
        "    print('It is 20.')\n",
        "else:\n",
        "    print('10, 20이 아닙니다.')"
      ],
      "execution_count": null,
      "outputs": [
        {
          "output_type": "stream",
          "text": [
            "10, 20이 아닙니다.\n"
          ],
          "name": "stdout"
        }
      ]
    },
    {
      "cell_type": "code",
      "metadata": {
        "colab": {
          "base_uri": "https://localhost:8080/",
          "height": 130
        },
        "id": "z7Ec9e16o74F",
        "outputId": "b543155d-1700-495e-c1a2-379d96aebdee"
      },
      "source": [
        "# 숫자 - 입력, 3의 배수면 fzz, 5의 배수면 buzz, 15의 배수면 fizzbuzz\n",
        "\n",
        "x = \n",
        "if x == 3x:\n",
        "    print('fizz')\n",
        "elif x == 5x:\n",
        "    print('buzz')\n",
        "else x == 15x:\n",
        "    print('fizzbuzz')"
      ],
      "execution_count": null,
      "outputs": [
        {
          "output_type": "error",
          "ename": "SyntaxError",
          "evalue": "ignored",
          "traceback": [
            "\u001b[0;36m  File \u001b[0;32m\"<ipython-input-5-1fd2fba2cbaa>\"\u001b[0;36m, line \u001b[0;32m4\u001b[0m\n\u001b[0;31m    if x == 3x:\u001b[0m\n\u001b[0m             ^\u001b[0m\n\u001b[0;31mSyntaxError\u001b[0m\u001b[0;31m:\u001b[0m invalid syntax\n"
          ]
        }
      ]
    },
    {
      "cell_type": "code",
      "metadata": {
        "id": "4slQ0puLpgKP"
      },
      "source": [
        "number = int(input())\n",
        "\n",
        "if number % 15 == 0:\n",
        "    print('fizzbuzz')\n",
        "elif number % 5 == 0:\n",
        "    print('Buzz')\n",
        "elif number % e == 0:\n",
        "    print('Fizz')\n",
        "else:\n",
        "    print(number)"
      ],
      "execution_count": null,
      "outputs": []
    },
    {
      "cell_type": "code",
      "metadata": {
        "id": "eH3K8Wo_q_Q8"
      },
      "source": [
        "'Fizz' * False, 'Buzz' * True"
      ],
      "execution_count": null,
      "outputs": []
    },
    {
      "cell_type": "code",
      "metadata": {
        "id": "PZTpoy24qyTw"
      },
      "source": [
        "print('Fizz'*(number%3==0) + 'Buzz'*(number%5==0) or number)"
      ],
      "execution_count": null,
      "outputs": []
    },
    {
      "cell_type": "code",
      "metadata": {
        "id": "eQuQQcq3q8bc"
      },
      "source": [
        "print('')"
      ],
      "execution_count": null,
      "outputs": []
    }
  ]
}