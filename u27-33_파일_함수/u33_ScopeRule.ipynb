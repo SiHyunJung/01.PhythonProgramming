{
  "nbformat": 4,
  "nbformat_minor": 0,
  "metadata": {
    "colab": {
      "name": "u33_ScopeRule.ipynb",
      "provenance": []
    },
    "kernelspec": {
      "name": "python3",
      "display_name": "Python 3"
    },
    "language_info": {
      "name": "python"
    }
  },
  "cells": [
    {
      "cell_type": "markdown",
      "metadata": {
        "id": "8xJN6FlvukE3"
      },
      "source": [
        "Unit 33. 변수의 사용 범위(Scope Rule)"
      ]
    },
    {
      "cell_type": "code",
      "metadata": {
        "colab": {
          "base_uri": "https://localhost:8080/"
        },
        "id": "GCV4MuxzuOXM",
        "outputId": "5f4962a6-8ef3-49d8-d688-bf3bc268b356"
      },
      "source": [
        "x = 10                  #전역(global) 변수\n",
        "def foo():\n",
        "      print(x)\n",
        "\n",
        "foo()\n",
        "print(x)"
      ],
      "execution_count": 1,
      "outputs": [
        {
          "output_type": "stream",
          "text": [
            "10\n",
            "10\n"
          ],
          "name": "stdout"
        }
      ]
    },
    {
      "cell_type": "code",
      "metadata": {
        "colab": {
          "base_uri": "https://localhost:8080/"
        },
        "id": "9Gm3ECyuu3wz",
        "outputId": "7aa267c4-13f6-4f71-a3a1-943d11c06710"
      },
      "source": [
        "def foo():\n",
        "    y = 10            #지역(local) 변수\n",
        "    print(y)\n",
        "\n",
        "foo()"
      ],
      "execution_count": 4,
      "outputs": [
        {
          "output_type": "stream",
          "text": [
            "10\n"
          ],
          "name": "stdout"
        }
      ]
    },
    {
      "cell_type": "code",
      "metadata": {
        "colab": {
          "base_uri": "https://localhost:8080/",
          "height": 164
        },
        "id": "GcOH-HT4u_Un",
        "outputId": "76c7f330-dc7e-4cd8-dddb-21a9f02e566a"
      },
      "source": [
        "Xprint(y)"
      ],
      "execution_count": 3,
      "outputs": [
        {
          "output_type": "error",
          "ename": "NameError",
          "evalue": "ignored",
          "traceback": [
            "\u001b[0;31m---------------------------------------------------------------------------\u001b[0m",
            "\u001b[0;31mNameError\u001b[0m                                 Traceback (most recent call last)",
            "\u001b[0;32m<ipython-input-3-d9183e048de3>\u001b[0m in \u001b[0;36m<module>\u001b[0;34m()\u001b[0m\n\u001b[0;32m----> 1\u001b[0;31m \u001b[0mprint\u001b[0m\u001b[0;34m(\u001b[0m\u001b[0my\u001b[0m\u001b[0;34m)\u001b[0m\u001b[0;34m\u001b[0m\u001b[0;34m\u001b[0m\u001b[0m\n\u001b[0m",
            "\u001b[0;31mNameError\u001b[0m: name 'y' is not defined"
          ]
        }
      ]
    },
    {
      "cell_type": "code",
      "metadata": {
        "colab": {
          "base_uri": "https://localhost:8080/"
        },
        "id": "sAzA48kEvAWd",
        "outputId": "3f68efa1-abda-42d8-8386-3a73943d205d"
      },
      "source": [
        "x = 10            # 전역(global) 변수\n",
        "def foo():\n",
        "    global x\n",
        "    x = 20        # 글로벌 변수\n",
        "    print(x)\n",
        "\n",
        "foo()\n",
        "print(x)"
      ],
      "execution_count": 5,
      "outputs": [
        {
          "output_type": "stream",
          "text": [
            "20\n",
            "20\n"
          ],
          "name": "stdout"
        }
      ]
    },
    {
      "cell_type": "code",
      "metadata": {
        "colab": {
          "base_uri": "https://localhost:8080/"
        },
        "id": "aqVA3COJvYnX",
        "outputId": "10135161-75a9-47ef-f320-2b15d05ecfa6"
      },
      "source": [
        "def foo():\n",
        "    global z\n",
        "    z = 10\n",
        "    print(z)\n",
        "\n",
        "foo()\n",
        "print(z)"
      ],
      "execution_count": 6,
      "outputs": [
        {
          "output_type": "stream",
          "text": [
            "10\n",
            "10\n"
          ],
          "name": "stdout"
        }
      ]
    },
    {
      "cell_type": "code",
      "metadata": {
        "id": "i1XUCtqvvdqI"
      },
      "source": [
        ""
      ],
      "execution_count": null,
      "outputs": []
    }
  ]
}