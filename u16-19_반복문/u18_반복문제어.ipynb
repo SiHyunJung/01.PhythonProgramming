{
  "nbformat": 4,
  "nbformat_minor": 0,
  "metadata": {
    "colab": {
      "name": "u18_반복문제어.ipynb",
      "provenance": [],
      "collapsed_sections": []
    },
    "kernelspec": {
      "name": "python3",
      "display_name": "Python 3"
    },
    "language_info": {
      "name": "python"
    }
  },
  "cells": [
    {
      "cell_type": "markdown",
      "metadata": {
        "id": "3BfUm-xRE-Gk"
      },
      "source": [
        "### Unit18. Break, Continue\n",
        "\n",
        "18.1 break"
      ]
    },
    {
      "cell_type": "code",
      "metadata": {
        "id": "7ffY2hIyE7Po"
      },
      "source": [
        "import random"
      ],
      "execution_count": null,
      "outputs": []
    },
    {
      "cell_type": "code",
      "metadata": {
        "colab": {
          "base_uri": "https://localhost:8080/"
        },
        "id": "EZH8_cwVFGMO",
        "outputId": "8b35db35-7dd0-4c28-ccb9-7da1a42f4202"
      },
      "source": [
        "while True:\n",
        "    i = random.randint(1,6)\n",
        "    print(i)\n",
        "    if i == 3:\n",
        "        break                  # 코드가 자연스러워서 많이 사용한다."
      ],
      "execution_count": null,
      "outputs": [
        {
          "output_type": "stream",
          "text": [
            "1\n",
            "2\n",
            "5\n",
            "5\n",
            "1\n",
            "5\n",
            "3\n"
          ],
          "name": "stdout"
        }
      ]
    },
    {
      "cell_type": "code",
      "metadata": {
        "colab": {
          "base_uri": "https://localhost:8080/"
        },
        "id": "s5iWsA3eGn85",
        "outputId": "dd9b58cd-c220-405d-bf39-c88bde319961"
      },
      "source": [
        "for i in range(2, 10):\n",
        "    sum_of_divisor = 0\n",
        "    for k in range(1, i):\n",
        "        if i % k == 0:\n",
        "            sum_of_divisor += k\n",
        "\n",
        "        if i == sum_of_divisor:\n",
        "            print(i)"
      ],
      "execution_count": 3,
      "outputs": [
        {
          "output_type": "stream",
          "text": [
            "6\n",
            "6\n",
            "6\n"
          ],
          "name": "stdout"
        }
      ]
    },
    {
      "cell_type": "code",
      "metadata": {
        "colab": {
          "base_uri": "https://localhost:8080/"
        },
        "id": "axFcvH7AFN5b",
        "outputId": "fdcdf0ab-bac2-45ce-c693-554ceb0e0a43"
      },
      "source": [
        "for i in range(5):\n",
        "    print(i, end=' ')\n",
        "    for k in range(5):\n",
        "        print('*', end='')\n",
        "        if i==k:\n",
        "            break\n",
        "    print()"
      ],
      "execution_count": 1,
      "outputs": [
        {
          "output_type": "stream",
          "text": [
            "0 *\n",
            "1 **\n",
            "2 ***\n",
            "3 ****\n",
            "4 *****\n"
          ],
          "name": "stdout"
        }
      ]
    },
    {
      "cell_type": "markdown",
      "metadata": {
        "id": "KsHQpxBFeGTG"
      },
      "source": [
        "18.2 continue"
      ]
    },
    {
      "cell_type": "code",
      "metadata": {
        "id": "V8d7dgDieMBn"
      },
      "source": [
        "for i in range(10):\n",
        "    if i % 2 == 0:\n",
        "        continue\n",
        "    print"
      ],
      "execution_count": 2,
      "outputs": []
    },
    {
      "cell_type": "code",
      "metadata": {
        "id": "mFKyfCfWeSBD"
      },
      "source": [
        ""
      ],
      "execution_count": null,
      "outputs": []
    }
  ]
}